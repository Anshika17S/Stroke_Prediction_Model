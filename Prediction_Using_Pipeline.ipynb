{
 "cells": [
  {
   "cell_type": "markdown",
   "id": "eaf3e0d0-dd71-4e11-95cc-395422625fea",
   "metadata": {},
   "source": [
    "<h1>Importing Model</h1>"
   ]
  },
  {
   "cell_type": "code",
   "execution_count": 7,
   "id": "1d5b38f8-abd5-4c94-b245-3954a0faea44",
   "metadata": {},
   "outputs": [],
   "source": [
    "import pickle\n",
    "import pandas as pd"
   ]
  },
  {
   "cell_type": "code",
   "execution_count": 8,
   "id": "f881708e-723b-4da4-89ad-bbdb067b059b",
   "metadata": {},
   "outputs": [],
   "source": [
    "pipe = pickle.load(open('pipe.pkl','rb'))"
   ]
  },
  {
   "cell_type": "markdown",
   "id": "f0b8e130-cb8c-483f-9ffe-3edf45d08958",
   "metadata": {},
   "source": [
    "<h1>Input Creation </h1>"
   ]
  },
  {
   "cell_type": "code",
   "execution_count": 9,
   "id": "0742b313-bead-401a-b1f8-8ab595bd896f",
   "metadata": {},
   "outputs": [],
   "source": [
    "test_input = pd.DataFrame([{\n",
    "    'gender': 'Male',\n",
    "    'age': 4.0,\n",
    "    'hypertension': 0.0,\n",
    "    'heart_disease': 0.0,\n",
    "    'ever_married': 'No',\n",
    "    'work_type': 'children',\n",
    "    'Residence_type': 'Rural',\n",
    "    'avg_glucose_level': 90.42,\n",
    "    'bmi': 16.2,\n",
    "    'smoking_status': 'Unknown'\n",
    "}])"
   ]
  },
  {
   "cell_type": "markdown",
   "id": "3d915148-e9a0-43b7-8726-ea957688c0ae",
   "metadata": {},
   "source": [
    "<h1>Prediction</h1>"
   ]
  },
  {
   "cell_type": "code",
   "execution_count": 10,
   "id": "c6959b27-ae85-4c02-b8f5-6a3e9d13de35",
   "metadata": {},
   "outputs": [
    {
     "data": {
      "text/plain": [
       "array([0])"
      ]
     },
     "execution_count": 10,
     "metadata": {},
     "output_type": "execute_result"
    }
   ],
   "source": [
    "pipe.predict(test_input)"
   ]
  },
  {
   "cell_type": "code",
   "execution_count": null,
   "id": "fb4dc431-72e9-4174-8406-9083f7d178c1",
   "metadata": {},
   "outputs": [],
   "source": []
  }
 ],
 "metadata": {
  "kernelspec": {
   "display_name": "Python 3 (ipykernel)",
   "language": "python",
   "name": "python3"
  },
  "language_info": {
   "codemirror_mode": {
    "name": "ipython",
    "version": 3
   },
   "file_extension": ".py",
   "mimetype": "text/x-python",
   "name": "python",
   "nbconvert_exporter": "python",
   "pygments_lexer": "ipython3",
   "version": "3.13.1"
  }
 },
 "nbformat": 4,
 "nbformat_minor": 5
}
